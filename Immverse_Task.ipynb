{
 "cells": [
  {
   "cell_type": "markdown",
   "id": "83828cb7",
   "metadata": {},
   "source": [
    "# Step 1. Import Libraries\n"
   ]
  },
  {
   "cell_type": "code",
   "execution_count": 1,
   "id": "3eb24708",
   "metadata": {},
   "outputs": [],
   "source": [
    "import numpy as np\n",
    "import pandas as pd"
   ]
  },
  {
   "cell_type": "markdown",
   "id": "303ec034",
   "metadata": {},
   "source": [
    "# Step 2. Load Dataset"
   ]
  },
  {
   "cell_type": "code",
   "execution_count": 2,
   "id": "d5da2804",
   "metadata": {},
   "outputs": [
    {
     "data": {
      "text/html": [
       "<div>\n",
       "<style scoped>\n",
       "    .dataframe tbody tr th:only-of-type {\n",
       "        vertical-align: middle;\n",
       "    }\n",
       "\n",
       "    .dataframe tbody tr th {\n",
       "        vertical-align: top;\n",
       "    }\n",
       "\n",
       "    .dataframe thead th {\n",
       "        text-align: right;\n",
       "    }\n",
       "</style>\n",
       "<table border=\"1\" class=\"dataframe\">\n",
       "  <thead>\n",
       "    <tr style=\"text-align: right;\">\n",
       "      <th></th>\n",
       "      <th>Unnamed: 0</th>\n",
       "      <th>market_place</th>\n",
       "      <th>customer_id</th>\n",
       "      <th>review_id</th>\n",
       "      <th>product_id</th>\n",
       "      <th>product_parent</th>\n",
       "      <th>product_title</th>\n",
       "      <th>product_category</th>\n",
       "      <th>star_rating</th>\n",
       "      <th>helpful_votes</th>\n",
       "      <th>total_votes</th>\n",
       "      <th>vine</th>\n",
       "      <th>verified_purchase</th>\n",
       "      <th>review_headline</th>\n",
       "      <th>review_body</th>\n",
       "      <th>review_date</th>\n",
       "      <th>Sentiment_jwlry</th>\n",
       "    </tr>\n",
       "  </thead>\n",
       "  <tbody>\n",
       "    <tr>\n",
       "      <th>0</th>\n",
       "      <td>0</td>\n",
       "      <td>\"US\"</td>\n",
       "      <td>\"50423057\"</td>\n",
       "      <td>\"R135Q3VZ4DQN5N\"</td>\n",
       "      <td>\"B00JWXFDMG\"</td>\n",
       "      <td>\"657335467\"</td>\n",
       "      <td>\"Everbling Purple and Clear Briolette Drop Swa...</td>\n",
       "      <td>\"Jewelry\"</td>\n",
       "      <td>1</td>\n",
       "      <td>0</td>\n",
       "      <td>0</td>\n",
       "      <td>0 \\t(N)</td>\n",
       "      <td>1 \\t(Y)</td>\n",
       "      <td>\"Beauties!\"</td>\n",
       "      <td>\"so beautiful even tho clearly not high end .....</td>\n",
       "      <td>2015-08-31</td>\n",
       "      <td>positive</td>\n",
       "    </tr>\n",
       "    <tr>\n",
       "      <th>1</th>\n",
       "      <td>1</td>\n",
       "      <td>\"US\"</td>\n",
       "      <td>\"11262325\"</td>\n",
       "      <td>\"R2N0QQ6R4T7YRY\"</td>\n",
       "      <td>\"B00W5T1H9W\"</td>\n",
       "      <td>\"26030170\"</td>\n",
       "      <td>\"925 Sterling Silver Finish 6ct Simulated Diam...</td>\n",
       "      <td>\"Jewelry\"</td>\n",
       "      <td>1</td>\n",
       "      <td>0</td>\n",
       "      <td>0</td>\n",
       "      <td>0 \\t(N)</td>\n",
       "      <td>0 \\t(N)</td>\n",
       "      <td>\"Great product.\"</td>\n",
       "      <td>\"Great product.. I got this set for my mother,...</td>\n",
       "      <td>2015-08-31</td>\n",
       "      <td>positive</td>\n",
       "    </tr>\n",
       "    <tr>\n",
       "      <th>2</th>\n",
       "      <td>2</td>\n",
       "      <td>\"US\"</td>\n",
       "      <td>\"27541121\"</td>\n",
       "      <td>\"R3N5JE5Y4T6W5M\"</td>\n",
       "      <td>\"B00M2L6KFY\"</td>\n",
       "      <td>\"697845240\"</td>\n",
       "      <td>\"Sterling Silver Circle \"Friends Forever\" Infi...</td>\n",
       "      <td>\"Jewelry\"</td>\n",
       "      <td>1</td>\n",
       "      <td>0</td>\n",
       "      <td>0</td>\n",
       "      <td>0 \\t(N)</td>\n",
       "      <td>1 \\t(Y)</td>\n",
       "      <td>\"Exactly as pictured and my daughter's friend ...</td>\n",
       "      <td>\"Exactly as pictured and my daughter's friend ...</td>\n",
       "      <td>2015-08-31</td>\n",
       "      <td>positive</td>\n",
       "    </tr>\n",
       "    <tr>\n",
       "      <th>3</th>\n",
       "      <td>3</td>\n",
       "      <td>\"US\"</td>\n",
       "      <td>\"5350721\"</td>\n",
       "      <td>\"R2I150CX5IVY9Q\"</td>\n",
       "      <td>\"B0006SW2WU\"</td>\n",
       "      <td>\"569859289\"</td>\n",
       "      <td>\"Surgical Stainless Steel Domed 9mm Fishbone R...</td>\n",
       "      <td>\"Jewelry\"</td>\n",
       "      <td>1</td>\n",
       "      <td>0</td>\n",
       "      <td>0</td>\n",
       "      <td>0 \\t(N)</td>\n",
       "      <td>1 \\t(Y)</td>\n",
       "      <td>\"Five Stars\"</td>\n",
       "      <td>\"Love it. Fits great. Super comfortable and ne...</td>\n",
       "      <td>2015-08-31</td>\n",
       "      <td>positive</td>\n",
       "    </tr>\n",
       "    <tr>\n",
       "      <th>4</th>\n",
       "      <td>4</td>\n",
       "      <td>\"US\"</td>\n",
       "      <td>\"24484424\"</td>\n",
       "      <td>\"R1RM9ICOOA9MQ3\"</td>\n",
       "      <td>\"B009YPDW70\"</td>\n",
       "      <td>\"332947422\"</td>\n",
       "      <td>\"Sterling Silver Family Pendant Necklace, 18\"\"</td>\n",
       "      <td>\"Jewelry\"</td>\n",
       "      <td>1</td>\n",
       "      <td>0</td>\n",
       "      <td>0</td>\n",
       "      <td>0 \\t(N)</td>\n",
       "      <td>1 \\t(Y)</td>\n",
       "      <td>\"... a Mother's Day gift for my Mom and she lo...</td>\n",
       "      <td>\"Got this as a Mother's Day gift for my Mom an...</td>\n",
       "      <td>2015-08-31</td>\n",
       "      <td>positive</td>\n",
       "    </tr>\n",
       "  </tbody>\n",
       "</table>\n",
       "</div>"
      ],
      "text/plain": [
       "   Unnamed: 0 market_place customer_id         review_id    product_id  \\\n",
       "0           0         \"US\"  \"50423057\"  \"R135Q3VZ4DQN5N\"  \"B00JWXFDMG\"   \n",
       "1           1         \"US\"  \"11262325\"  \"R2N0QQ6R4T7YRY\"  \"B00W5T1H9W\"   \n",
       "2           2         \"US\"  \"27541121\"  \"R3N5JE5Y4T6W5M\"  \"B00M2L6KFY\"   \n",
       "3           3         \"US\"   \"5350721\"  \"R2I150CX5IVY9Q\"  \"B0006SW2WU\"   \n",
       "4           4         \"US\"  \"24484424\"  \"R1RM9ICOOA9MQ3\"  \"B009YPDW70\"   \n",
       "\n",
       "  product_parent                                      product_title  \\\n",
       "0    \"657335467\"  \"Everbling Purple and Clear Briolette Drop Swa...   \n",
       "1     \"26030170\"  \"925 Sterling Silver Finish 6ct Simulated Diam...   \n",
       "2    \"697845240\"  \"Sterling Silver Circle \"Friends Forever\" Infi...   \n",
       "3    \"569859289\"  \"Surgical Stainless Steel Domed 9mm Fishbone R...   \n",
       "4    \"332947422\"     \"Sterling Silver Family Pendant Necklace, 18\"\"   \n",
       "\n",
       "  product_category  star_rating  helpful_votes  total_votes     vine  \\\n",
       "0        \"Jewelry\"            1              0            0  0 \\t(N)   \n",
       "1        \"Jewelry\"            1              0            0  0 \\t(N)   \n",
       "2        \"Jewelry\"            1              0            0  0 \\t(N)   \n",
       "3        \"Jewelry\"            1              0            0  0 \\t(N)   \n",
       "4        \"Jewelry\"            1              0            0  0 \\t(N)   \n",
       "\n",
       "  verified_purchase                                    review_headline  \\\n",
       "0           1 \\t(Y)                                        \"Beauties!\"   \n",
       "1           0 \\t(N)                                   \"Great product.\"   \n",
       "2           1 \\t(Y)  \"Exactly as pictured and my daughter's friend ...   \n",
       "3           1 \\t(Y)                                       \"Five Stars\"   \n",
       "4           1 \\t(Y)  \"... a Mother's Day gift for my Mom and she lo...   \n",
       "\n",
       "                                         review_body review_date  \\\n",
       "0  \"so beautiful even tho clearly not high end .....  2015-08-31   \n",
       "1  \"Great product.. I got this set for my mother,...  2015-08-31   \n",
       "2  \"Exactly as pictured and my daughter's friend ...  2015-08-31   \n",
       "3  \"Love it. Fits great. Super comfortable and ne...  2015-08-31   \n",
       "4  \"Got this as a Mother's Day gift for my Mom an...  2015-08-31   \n",
       "\n",
       "  Sentiment_jwlry  \n",
       "0        positive  \n",
       "1        positive  \n",
       "2        positive  \n",
       "3        positive  \n",
       "4        positive  "
      ]
     },
     "execution_count": 2,
     "metadata": {},
     "output_type": "execute_result"
    }
   ],
   "source": [
    "jwellery = pd.read_csv(\"amazon_jwellery_Data.csv\")\n",
    "jwellery.head()"
   ]
  },
  {
   "cell_type": "markdown",
   "id": "0d3f5719",
   "metadata": {},
   "source": [
    "# Step 3. Data Exploration"
   ]
  },
  {
   "cell_type": "code",
   "execution_count": 3,
   "id": "cfa2921e",
   "metadata": {},
   "outputs": [
    {
     "name": "stdout",
     "output_type": "stream",
     "text": [
      "<class 'pandas.core.frame.DataFrame'>\n",
      "RangeIndex: 100 entries, 0 to 99\n",
      "Data columns (total 17 columns):\n",
      " #   Column             Non-Null Count  Dtype \n",
      "---  ------             --------------  ----- \n",
      " 0   Unnamed: 0         100 non-null    int64 \n",
      " 1   market_place       100 non-null    object\n",
      " 2   customer_id        100 non-null    object\n",
      " 3   review_id          100 non-null    object\n",
      " 4   product_id         100 non-null    object\n",
      " 5   product_parent     100 non-null    object\n",
      " 6   product_title      100 non-null    object\n",
      " 7   product_category   100 non-null    object\n",
      " 8   star_rating        100 non-null    int64 \n",
      " 9   helpful_votes      100 non-null    int64 \n",
      " 10  total_votes        100 non-null    int64 \n",
      " 11  vine               100 non-null    object\n",
      " 12  verified_purchase  100 non-null    object\n",
      " 13  review_headline    100 non-null    object\n",
      " 14  review_body        100 non-null    object\n",
      " 15  review_date        100 non-null    object\n",
      " 16  Sentiment_jwlry    100 non-null    object\n",
      "dtypes: int64(4), object(13)\n",
      "memory usage: 13.4+ KB\n"
     ]
    }
   ],
   "source": [
    "jwellery.info()"
   ]
  },
  {
   "cell_type": "code",
   "execution_count": 4,
   "id": "7602b000",
   "metadata": {},
   "outputs": [
    {
     "data": {
      "text/html": [
       "<div>\n",
       "<style scoped>\n",
       "    .dataframe tbody tr th:only-of-type {\n",
       "        vertical-align: middle;\n",
       "    }\n",
       "\n",
       "    .dataframe tbody tr th {\n",
       "        vertical-align: top;\n",
       "    }\n",
       "\n",
       "    .dataframe thead th {\n",
       "        text-align: right;\n",
       "    }\n",
       "</style>\n",
       "<table border=\"1\" class=\"dataframe\">\n",
       "  <thead>\n",
       "    <tr style=\"text-align: right;\">\n",
       "      <th></th>\n",
       "      <th>Unnamed: 0</th>\n",
       "      <th>star_rating</th>\n",
       "      <th>helpful_votes</th>\n",
       "      <th>total_votes</th>\n",
       "    </tr>\n",
       "  </thead>\n",
       "  <tbody>\n",
       "    <tr>\n",
       "      <th>count</th>\n",
       "      <td>100.000000</td>\n",
       "      <td>100.000000</td>\n",
       "      <td>100.000000</td>\n",
       "      <td>100.000000</td>\n",
       "    </tr>\n",
       "    <tr>\n",
       "      <th>mean</th>\n",
       "      <td>49.500000</td>\n",
       "      <td>0.750000</td>\n",
       "      <td>0.740000</td>\n",
       "      <td>0.820000</td>\n",
       "    </tr>\n",
       "    <tr>\n",
       "      <th>std</th>\n",
       "      <td>29.011492</td>\n",
       "      <td>0.435194</td>\n",
       "      <td>2.468468</td>\n",
       "      <td>2.508088</td>\n",
       "    </tr>\n",
       "    <tr>\n",
       "      <th>min</th>\n",
       "      <td>0.000000</td>\n",
       "      <td>0.000000</td>\n",
       "      <td>0.000000</td>\n",
       "      <td>0.000000</td>\n",
       "    </tr>\n",
       "    <tr>\n",
       "      <th>25%</th>\n",
       "      <td>24.750000</td>\n",
       "      <td>0.750000</td>\n",
       "      <td>0.000000</td>\n",
       "      <td>0.000000</td>\n",
       "    </tr>\n",
       "    <tr>\n",
       "      <th>50%</th>\n",
       "      <td>49.500000</td>\n",
       "      <td>1.000000</td>\n",
       "      <td>0.000000</td>\n",
       "      <td>0.000000</td>\n",
       "    </tr>\n",
       "    <tr>\n",
       "      <th>75%</th>\n",
       "      <td>74.250000</td>\n",
       "      <td>1.000000</td>\n",
       "      <td>1.000000</td>\n",
       "      <td>1.000000</td>\n",
       "    </tr>\n",
       "    <tr>\n",
       "      <th>max</th>\n",
       "      <td>99.000000</td>\n",
       "      <td>1.000000</td>\n",
       "      <td>23.000000</td>\n",
       "      <td>23.000000</td>\n",
       "    </tr>\n",
       "  </tbody>\n",
       "</table>\n",
       "</div>"
      ],
      "text/plain": [
       "       Unnamed: 0  star_rating  helpful_votes  total_votes\n",
       "count  100.000000   100.000000     100.000000   100.000000\n",
       "mean    49.500000     0.750000       0.740000     0.820000\n",
       "std     29.011492     0.435194       2.468468     2.508088\n",
       "min      0.000000     0.000000       0.000000     0.000000\n",
       "25%     24.750000     0.750000       0.000000     0.000000\n",
       "50%     49.500000     1.000000       0.000000     0.000000\n",
       "75%     74.250000     1.000000       1.000000     1.000000\n",
       "max     99.000000     1.000000      23.000000    23.000000"
      ]
     },
     "execution_count": 4,
     "metadata": {},
     "output_type": "execute_result"
    }
   ],
   "source": [
    "jwellery.describe()"
   ]
  },
  {
   "cell_type": "markdown",
   "id": "b8cb65da",
   "metadata": {},
   "source": [
    "# Step 4. Handling Missing Values\n"
   ]
  },
  {
   "cell_type": "code",
   "execution_count": 5,
   "id": "0e9cc5a6",
   "metadata": {},
   "outputs": [
    {
     "data": {
      "text/plain": [
       "Unnamed: 0           0\n",
       "market_place         0\n",
       "customer_id          0\n",
       "review_id            0\n",
       "product_id           0\n",
       "product_parent       0\n",
       "product_title        0\n",
       "product_category     0\n",
       "star_rating          0\n",
       "helpful_votes        0\n",
       "total_votes          0\n",
       "vine                 0\n",
       "verified_purchase    0\n",
       "review_headline      0\n",
       "review_body          0\n",
       "review_date          0\n",
       "Sentiment_jwlry      0\n",
       "dtype: int64"
      ]
     },
     "execution_count": 5,
     "metadata": {},
     "output_type": "execute_result"
    }
   ],
   "source": [
    "jwellery.isnull().sum()"
   ]
  },
  {
   "cell_type": "markdown",
   "id": "9c6e6799",
   "metadata": {},
   "source": [
    "# Step 5. Correcting Inconsistent Formatting"
   ]
  },
  {
   "cell_type": "markdown",
   "id": "c4359593",
   "metadata": {},
   "source": [
    "# Droping columns which are not required"
   ]
  },
  {
   "cell_type": "code",
   "execution_count": 6,
   "id": "ab4c8c1b",
   "metadata": {},
   "outputs": [],
   "source": [
    "jwellery.drop(columns=['Unnamed: 0','market_place','review_id','product_id','vine','product_parent','review_headline','review_body',],inplace=True)"
   ]
  },
  {
   "cell_type": "code",
   "execution_count": 7,
   "id": "f2979195",
   "metadata": {},
   "outputs": [
    {
     "data": {
      "text/html": [
       "<div>\n",
       "<style scoped>\n",
       "    .dataframe tbody tr th:only-of-type {\n",
       "        vertical-align: middle;\n",
       "    }\n",
       "\n",
       "    .dataframe tbody tr th {\n",
       "        vertical-align: top;\n",
       "    }\n",
       "\n",
       "    .dataframe thead th {\n",
       "        text-align: right;\n",
       "    }\n",
       "</style>\n",
       "<table border=\"1\" class=\"dataframe\">\n",
       "  <thead>\n",
       "    <tr style=\"text-align: right;\">\n",
       "      <th></th>\n",
       "      <th>customer_id</th>\n",
       "      <th>product_title</th>\n",
       "      <th>product_category</th>\n",
       "      <th>star_rating</th>\n",
       "      <th>helpful_votes</th>\n",
       "      <th>total_votes</th>\n",
       "      <th>verified_purchase</th>\n",
       "      <th>review_date</th>\n",
       "      <th>Sentiment_jwlry</th>\n",
       "    </tr>\n",
       "  </thead>\n",
       "  <tbody>\n",
       "    <tr>\n",
       "      <th>0</th>\n",
       "      <td>\"50423057\"</td>\n",
       "      <td>\"Everbling Purple and Clear Briolette Drop Swa...</td>\n",
       "      <td>\"Jewelry\"</td>\n",
       "      <td>1</td>\n",
       "      <td>0</td>\n",
       "      <td>0</td>\n",
       "      <td>1 \\t(Y)</td>\n",
       "      <td>2015-08-31</td>\n",
       "      <td>positive</td>\n",
       "    </tr>\n",
       "    <tr>\n",
       "      <th>1</th>\n",
       "      <td>\"11262325\"</td>\n",
       "      <td>\"925 Sterling Silver Finish 6ct Simulated Diam...</td>\n",
       "      <td>\"Jewelry\"</td>\n",
       "      <td>1</td>\n",
       "      <td>0</td>\n",
       "      <td>0</td>\n",
       "      <td>0 \\t(N)</td>\n",
       "      <td>2015-08-31</td>\n",
       "      <td>positive</td>\n",
       "    </tr>\n",
       "    <tr>\n",
       "      <th>2</th>\n",
       "      <td>\"27541121\"</td>\n",
       "      <td>\"Sterling Silver Circle \"Friends Forever\" Infi...</td>\n",
       "      <td>\"Jewelry\"</td>\n",
       "      <td>1</td>\n",
       "      <td>0</td>\n",
       "      <td>0</td>\n",
       "      <td>1 \\t(Y)</td>\n",
       "      <td>2015-08-31</td>\n",
       "      <td>positive</td>\n",
       "    </tr>\n",
       "    <tr>\n",
       "      <th>3</th>\n",
       "      <td>\"5350721\"</td>\n",
       "      <td>\"Surgical Stainless Steel Domed 9mm Fishbone R...</td>\n",
       "      <td>\"Jewelry\"</td>\n",
       "      <td>1</td>\n",
       "      <td>0</td>\n",
       "      <td>0</td>\n",
       "      <td>1 \\t(Y)</td>\n",
       "      <td>2015-08-31</td>\n",
       "      <td>positive</td>\n",
       "    </tr>\n",
       "    <tr>\n",
       "      <th>4</th>\n",
       "      <td>\"24484424\"</td>\n",
       "      <td>\"Sterling Silver Family Pendant Necklace, 18\"\"</td>\n",
       "      <td>\"Jewelry\"</td>\n",
       "      <td>1</td>\n",
       "      <td>0</td>\n",
       "      <td>0</td>\n",
       "      <td>1 \\t(Y)</td>\n",
       "      <td>2015-08-31</td>\n",
       "      <td>positive</td>\n",
       "    </tr>\n",
       "  </tbody>\n",
       "</table>\n",
       "</div>"
      ],
      "text/plain": [
       "  customer_id                                      product_title  \\\n",
       "0  \"50423057\"  \"Everbling Purple and Clear Briolette Drop Swa...   \n",
       "1  \"11262325\"  \"925 Sterling Silver Finish 6ct Simulated Diam...   \n",
       "2  \"27541121\"  \"Sterling Silver Circle \"Friends Forever\" Infi...   \n",
       "3   \"5350721\"  \"Surgical Stainless Steel Domed 9mm Fishbone R...   \n",
       "4  \"24484424\"     \"Sterling Silver Family Pendant Necklace, 18\"\"   \n",
       "\n",
       "  product_category  star_rating  helpful_votes  total_votes verified_purchase  \\\n",
       "0        \"Jewelry\"            1              0            0           1 \\t(Y)   \n",
       "1        \"Jewelry\"            1              0            0           0 \\t(N)   \n",
       "2        \"Jewelry\"            1              0            0           1 \\t(Y)   \n",
       "3        \"Jewelry\"            1              0            0           1 \\t(Y)   \n",
       "4        \"Jewelry\"            1              0            0           1 \\t(Y)   \n",
       "\n",
       "  review_date Sentiment_jwlry  \n",
       "0  2015-08-31        positive  \n",
       "1  2015-08-31        positive  \n",
       "2  2015-08-31        positive  \n",
       "3  2015-08-31        positive  \n",
       "4  2015-08-31        positive  "
      ]
     },
     "execution_count": 7,
     "metadata": {},
     "output_type": "execute_result"
    }
   ],
   "source": [
    "jwellery.head()"
   ]
  },
  {
   "cell_type": "markdown",
   "id": "1cd3e8bd",
   "metadata": {},
   "source": [
    "# Date Formatting"
   ]
  },
  {
   "cell_type": "code",
   "execution_count": 8,
   "id": "d843c280",
   "metadata": {},
   "outputs": [
    {
     "data": {
      "text/html": [
       "<div>\n",
       "<style scoped>\n",
       "    .dataframe tbody tr th:only-of-type {\n",
       "        vertical-align: middle;\n",
       "    }\n",
       "\n",
       "    .dataframe tbody tr th {\n",
       "        vertical-align: top;\n",
       "    }\n",
       "\n",
       "    .dataframe thead th {\n",
       "        text-align: right;\n",
       "    }\n",
       "</style>\n",
       "<table border=\"1\" class=\"dataframe\">\n",
       "  <thead>\n",
       "    <tr style=\"text-align: right;\">\n",
       "      <th></th>\n",
       "      <th>customer_id</th>\n",
       "      <th>product_title</th>\n",
       "      <th>product_category</th>\n",
       "      <th>star_rating</th>\n",
       "      <th>helpful_votes</th>\n",
       "      <th>total_votes</th>\n",
       "      <th>verified_purchase</th>\n",
       "      <th>review_date</th>\n",
       "      <th>Sentiment_jwlry</th>\n",
       "    </tr>\n",
       "  </thead>\n",
       "  <tbody>\n",
       "    <tr>\n",
       "      <th>0</th>\n",
       "      <td>\"50423057\"</td>\n",
       "      <td>Everbling Purple and Clear Briolette Drop Swar...</td>\n",
       "      <td>Jewelry</td>\n",
       "      <td>1</td>\n",
       "      <td>0</td>\n",
       "      <td>0</td>\n",
       "      <td>1 \\t(Y)</td>\n",
       "      <td>2015-08-31</td>\n",
       "      <td>positive</td>\n",
       "    </tr>\n",
       "    <tr>\n",
       "      <th>1</th>\n",
       "      <td>\"11262325\"</td>\n",
       "      <td>925 Sterling Silver Finish 6ct Simulated Diamo...</td>\n",
       "      <td>Jewelry</td>\n",
       "      <td>1</td>\n",
       "      <td>0</td>\n",
       "      <td>0</td>\n",
       "      <td>0 \\t(N)</td>\n",
       "      <td>2015-08-31</td>\n",
       "      <td>positive</td>\n",
       "    </tr>\n",
       "    <tr>\n",
       "      <th>2</th>\n",
       "      <td>\"27541121\"</td>\n",
       "      <td>Sterling Silver Circle</td>\n",
       "      <td>Jewelry</td>\n",
       "      <td>1</td>\n",
       "      <td>0</td>\n",
       "      <td>0</td>\n",
       "      <td>1 \\t(Y)</td>\n",
       "      <td>2015-08-31</td>\n",
       "      <td>positive</td>\n",
       "    </tr>\n",
       "    <tr>\n",
       "      <th>3</th>\n",
       "      <td>\"5350721\"</td>\n",
       "      <td>Surgical Stainless Steel Domed 9mm Fishbone Ri...</td>\n",
       "      <td>Jewelry</td>\n",
       "      <td>1</td>\n",
       "      <td>0</td>\n",
       "      <td>0</td>\n",
       "      <td>1 \\t(Y)</td>\n",
       "      <td>2015-08-31</td>\n",
       "      <td>positive</td>\n",
       "    </tr>\n",
       "    <tr>\n",
       "      <th>4</th>\n",
       "      <td>\"24484424\"</td>\n",
       "      <td>Sterling Silver Family Pendant Necklace, 18</td>\n",
       "      <td>Jewelry</td>\n",
       "      <td>1</td>\n",
       "      <td>0</td>\n",
       "      <td>0</td>\n",
       "      <td>1 \\t(Y)</td>\n",
       "      <td>2015-08-31</td>\n",
       "      <td>positive</td>\n",
       "    </tr>\n",
       "  </tbody>\n",
       "</table>\n",
       "</div>"
      ],
      "text/plain": [
       "  customer_id                                      product_title  \\\n",
       "0  \"50423057\"  Everbling Purple and Clear Briolette Drop Swar...   \n",
       "1  \"11262325\"  925 Sterling Silver Finish 6ct Simulated Diamo...   \n",
       "2  \"27541121\"                            Sterling Silver Circle    \n",
       "3   \"5350721\"  Surgical Stainless Steel Domed 9mm Fishbone Ri...   \n",
       "4  \"24484424\"        Sterling Silver Family Pendant Necklace, 18   \n",
       "\n",
       "  product_category  star_rating  helpful_votes  total_votes verified_purchase  \\\n",
       "0          Jewelry            1              0            0           1 \\t(Y)   \n",
       "1          Jewelry            1              0            0           0 \\t(N)   \n",
       "2          Jewelry            1              0            0           1 \\t(Y)   \n",
       "3          Jewelry            1              0            0           1 \\t(Y)   \n",
       "4          Jewelry            1              0            0           1 \\t(Y)   \n",
       "\n",
       "  review_date Sentiment_jwlry  \n",
       "0  2015-08-31        positive  \n",
       "1  2015-08-31        positive  \n",
       "2  2015-08-31        positive  \n",
       "3  2015-08-31        positive  \n",
       "4  2015-08-31        positive  "
      ]
     },
     "execution_count": 8,
     "metadata": {},
     "output_type": "execute_result"
    }
   ],
   "source": [
    "def handle_quotation_marks(value):\n",
    "    value=str(value)\n",
    "    value=value.split('\"')\n",
    "    value=value[1]\n",
    "    return value\n",
    "jwellery['product_title']=jwellery['product_title'].apply(handle_quotation_marks)\n",
    "jwellery[\"product_category\"]=jwellery[\"product_category\"].apply(handle_quotation_marks)\n",
    "jwellery.head()"
   ]
  },
  {
   "cell_type": "code",
   "execution_count": 9,
   "id": "ed3d7d9d",
   "metadata": {},
   "outputs": [
    {
     "data": {
      "text/html": [
       "<div>\n",
       "<style scoped>\n",
       "    .dataframe tbody tr th:only-of-type {\n",
       "        vertical-align: middle;\n",
       "    }\n",
       "\n",
       "    .dataframe tbody tr th {\n",
       "        vertical-align: top;\n",
       "    }\n",
       "\n",
       "    .dataframe thead th {\n",
       "        text-align: right;\n",
       "    }\n",
       "</style>\n",
       "<table border=\"1\" class=\"dataframe\">\n",
       "  <thead>\n",
       "    <tr style=\"text-align: right;\">\n",
       "      <th></th>\n",
       "      <th>customer_id</th>\n",
       "      <th>product_title</th>\n",
       "      <th>product_category</th>\n",
       "      <th>star_rating</th>\n",
       "      <th>helpful_votes</th>\n",
       "      <th>total_votes</th>\n",
       "      <th>verified_purchase</th>\n",
       "      <th>review_date</th>\n",
       "      <th>Sentiment_jwlry</th>\n",
       "    </tr>\n",
       "  </thead>\n",
       "  <tbody>\n",
       "    <tr>\n",
       "      <th>0</th>\n",
       "      <td>\"50423057\"</td>\n",
       "      <td>Everbling Purple and Clear Briolette Drop Swar...</td>\n",
       "      <td>Jewelry</td>\n",
       "      <td>1</td>\n",
       "      <td>0</td>\n",
       "      <td>0</td>\n",
       "      <td>Y</td>\n",
       "      <td>2015-08-31</td>\n",
       "      <td>positive</td>\n",
       "    </tr>\n",
       "    <tr>\n",
       "      <th>1</th>\n",
       "      <td>\"11262325\"</td>\n",
       "      <td>925 Sterling Silver Finish 6ct Simulated Diamo...</td>\n",
       "      <td>Jewelry</td>\n",
       "      <td>1</td>\n",
       "      <td>0</td>\n",
       "      <td>0</td>\n",
       "      <td>N</td>\n",
       "      <td>2015-08-31</td>\n",
       "      <td>positive</td>\n",
       "    </tr>\n",
       "    <tr>\n",
       "      <th>2</th>\n",
       "      <td>\"27541121\"</td>\n",
       "      <td>Sterling Silver Circle</td>\n",
       "      <td>Jewelry</td>\n",
       "      <td>1</td>\n",
       "      <td>0</td>\n",
       "      <td>0</td>\n",
       "      <td>Y</td>\n",
       "      <td>2015-08-31</td>\n",
       "      <td>positive</td>\n",
       "    </tr>\n",
       "    <tr>\n",
       "      <th>3</th>\n",
       "      <td>\"5350721\"</td>\n",
       "      <td>Surgical Stainless Steel Domed 9mm Fishbone Ri...</td>\n",
       "      <td>Jewelry</td>\n",
       "      <td>1</td>\n",
       "      <td>0</td>\n",
       "      <td>0</td>\n",
       "      <td>Y</td>\n",
       "      <td>2015-08-31</td>\n",
       "      <td>positive</td>\n",
       "    </tr>\n",
       "    <tr>\n",
       "      <th>4</th>\n",
       "      <td>\"24484424\"</td>\n",
       "      <td>Sterling Silver Family Pendant Necklace, 18</td>\n",
       "      <td>Jewelry</td>\n",
       "      <td>1</td>\n",
       "      <td>0</td>\n",
       "      <td>0</td>\n",
       "      <td>Y</td>\n",
       "      <td>2015-08-31</td>\n",
       "      <td>positive</td>\n",
       "    </tr>\n",
       "  </tbody>\n",
       "</table>\n",
       "</div>"
      ],
      "text/plain": [
       "  customer_id                                      product_title  \\\n",
       "0  \"50423057\"  Everbling Purple and Clear Briolette Drop Swar...   \n",
       "1  \"11262325\"  925 Sterling Silver Finish 6ct Simulated Diamo...   \n",
       "2  \"27541121\"                            Sterling Silver Circle    \n",
       "3   \"5350721\"  Surgical Stainless Steel Domed 9mm Fishbone Ri...   \n",
       "4  \"24484424\"        Sterling Silver Family Pendant Necklace, 18   \n",
       "\n",
       "  product_category  star_rating  helpful_votes  total_votes verified_purchase  \\\n",
       "0          Jewelry            1              0            0                 Y   \n",
       "1          Jewelry            1              0            0                 N   \n",
       "2          Jewelry            1              0            0                 Y   \n",
       "3          Jewelry            1              0            0                 Y   \n",
       "4          Jewelry            1              0            0                 Y   \n",
       "\n",
       "  review_date Sentiment_jwlry  \n",
       "0  2015-08-31        positive  \n",
       "1  2015-08-31        positive  \n",
       "2  2015-08-31        positive  \n",
       "3  2015-08-31        positive  \n",
       "4  2015-08-31        positive  "
      ]
     },
     "execution_count": 9,
     "metadata": {},
     "output_type": "execute_result"
    }
   ],
   "source": [
    "def handle_verified_purchase(value):\n",
    "    value=value[4]\n",
    "    return value\n",
    "\n",
    "jwellery['verified_purchase']=jwellery['verified_purchase'].apply(handle_verified_purchase)\n",
    "jwellery.head()"
   ]
  },
  {
   "cell_type": "code",
   "execution_count": 10,
   "id": "de648f52",
   "metadata": {},
   "outputs": [
    {
     "data": {
      "text/plain": [
       "verified_purchase\n",
       "Y    97\n",
       "N     3\n",
       "Name: count, dtype: int64"
      ]
     },
     "execution_count": 10,
     "metadata": {},
     "output_type": "execute_result"
    }
   ],
   "source": [
    "jwellery.verified_purchase.value_counts()"
   ]
  },
  {
   "cell_type": "markdown",
   "id": "08c7f345",
   "metadata": {},
   "source": [
    "# Step 6. Data Transformation"
   ]
  },
  {
   "cell_type": "markdown",
   "id": "5c4c073f",
   "metadata": {},
   "source": [
    "# Converting Data Types"
   ]
  },
  {
   "cell_type": "code",
   "execution_count": 11,
   "id": "12a9a75a",
   "metadata": {},
   "outputs": [
    {
     "data": {
      "text/html": [
       "<div>\n",
       "<style scoped>\n",
       "    .dataframe tbody tr th:only-of-type {\n",
       "        vertical-align: middle;\n",
       "    }\n",
       "\n",
       "    .dataframe tbody tr th {\n",
       "        vertical-align: top;\n",
       "    }\n",
       "\n",
       "    .dataframe thead th {\n",
       "        text-align: right;\n",
       "    }\n",
       "</style>\n",
       "<table border=\"1\" class=\"dataframe\">\n",
       "  <thead>\n",
       "    <tr style=\"text-align: right;\">\n",
       "      <th></th>\n",
       "      <th>customer_id</th>\n",
       "      <th>product_title</th>\n",
       "      <th>product_category</th>\n",
       "      <th>star_rating</th>\n",
       "      <th>helpful_votes</th>\n",
       "      <th>total_votes</th>\n",
       "      <th>verified_purchase</th>\n",
       "      <th>review_date</th>\n",
       "      <th>Sentiment_jwlry</th>\n",
       "    </tr>\n",
       "  </thead>\n",
       "  <tbody>\n",
       "    <tr>\n",
       "      <th>0</th>\n",
       "      <td>\"50423057\"</td>\n",
       "      <td>Everbling Purple and Clear Briolette Drop Swar...</td>\n",
       "      <td>Jewelry</td>\n",
       "      <td>1</td>\n",
       "      <td>0</td>\n",
       "      <td>0</td>\n",
       "      <td>Y</td>\n",
       "      <td>2015-08-31</td>\n",
       "      <td>positive</td>\n",
       "    </tr>\n",
       "    <tr>\n",
       "      <th>1</th>\n",
       "      <td>\"11262325\"</td>\n",
       "      <td>925 Sterling Silver Finish 6ct Simulated Diamo...</td>\n",
       "      <td>Jewelry</td>\n",
       "      <td>1</td>\n",
       "      <td>0</td>\n",
       "      <td>0</td>\n",
       "      <td>N</td>\n",
       "      <td>2015-08-31</td>\n",
       "      <td>positive</td>\n",
       "    </tr>\n",
       "    <tr>\n",
       "      <th>2</th>\n",
       "      <td>\"27541121\"</td>\n",
       "      <td>Sterling Silver Circle</td>\n",
       "      <td>Jewelry</td>\n",
       "      <td>1</td>\n",
       "      <td>0</td>\n",
       "      <td>0</td>\n",
       "      <td>Y</td>\n",
       "      <td>2015-08-31</td>\n",
       "      <td>positive</td>\n",
       "    </tr>\n",
       "    <tr>\n",
       "      <th>3</th>\n",
       "      <td>\"5350721\"</td>\n",
       "      <td>Surgical Stainless Steel Domed 9mm Fishbone Ri...</td>\n",
       "      <td>Jewelry</td>\n",
       "      <td>1</td>\n",
       "      <td>0</td>\n",
       "      <td>0</td>\n",
       "      <td>Y</td>\n",
       "      <td>2015-08-31</td>\n",
       "      <td>positive</td>\n",
       "    </tr>\n",
       "    <tr>\n",
       "      <th>4</th>\n",
       "      <td>\"24484424\"</td>\n",
       "      <td>Sterling Silver Family Pendant Necklace, 18</td>\n",
       "      <td>Jewelry</td>\n",
       "      <td>1</td>\n",
       "      <td>0</td>\n",
       "      <td>0</td>\n",
       "      <td>Y</td>\n",
       "      <td>2015-08-31</td>\n",
       "      <td>positive</td>\n",
       "    </tr>\n",
       "  </tbody>\n",
       "</table>\n",
       "</div>"
      ],
      "text/plain": [
       "  customer_id                                      product_title  \\\n",
       "0  \"50423057\"  Everbling Purple and Clear Briolette Drop Swar...   \n",
       "1  \"11262325\"  925 Sterling Silver Finish 6ct Simulated Diamo...   \n",
       "2  \"27541121\"                            Sterling Silver Circle    \n",
       "3   \"5350721\"  Surgical Stainless Steel Domed 9mm Fishbone Ri...   \n",
       "4  \"24484424\"        Sterling Silver Family Pendant Necklace, 18   \n",
       "\n",
       "  product_category  star_rating  helpful_votes  total_votes verified_purchase  \\\n",
       "0          Jewelry            1              0            0                 Y   \n",
       "1          Jewelry            1              0            0                 N   \n",
       "2          Jewelry            1              0            0                 Y   \n",
       "3          Jewelry            1              0            0                 Y   \n",
       "4          Jewelry            1              0            0                 Y   \n",
       "\n",
       "  review_date Sentiment_jwlry  \n",
       "0  2015-08-31        positive  \n",
       "1  2015-08-31        positive  \n",
       "2  2015-08-31        positive  \n",
       "3  2015-08-31        positive  \n",
       "4  2015-08-31        positive  "
      ]
     },
     "execution_count": 11,
     "metadata": {},
     "output_type": "execute_result"
    }
   ],
   "source": [
    "from datetime import datetime\n",
    "\n",
    "\n",
    "def handle_date(value):\n",
    "    value= datetime.strptime(value, '%Y-%m-%d')\n",
    "    \n",
    "    return value\n",
    "\n",
    "jwellery['review_date']=jwellery['review_date'].apply(handle_date)\n",
    "jwellery.head()"
   ]
  },
  {
   "cell_type": "code",
   "execution_count": 12,
   "id": "84f5ec03",
   "metadata": {},
   "outputs": [
    {
     "data": {
      "text/plain": [
       "star_rating\n",
       "1    75\n",
       "0    25\n",
       "Name: count, dtype: int64"
      ]
     },
     "execution_count": 12,
     "metadata": {},
     "output_type": "execute_result"
    }
   ],
   "source": [
    "jwellery.star_rating.value_counts()"
   ]
  },
  {
   "cell_type": "code",
   "execution_count": 13,
   "id": "0042d3c6",
   "metadata": {},
   "outputs": [
    {
     "data": {
      "text/plain": [
       "helpful_votes\n",
       "0     70\n",
       "1     17\n",
       "2      7\n",
       "5      2\n",
       "3      2\n",
       "4      1\n",
       "23     1\n",
       "Name: count, dtype: int64"
      ]
     },
     "execution_count": 13,
     "metadata": {},
     "output_type": "execute_result"
    }
   ],
   "source": [
    "jwellery.helpful_votes.value_counts()"
   ]
  },
  {
   "cell_type": "code",
   "execution_count": 14,
   "id": "1a268ff9",
   "metadata": {},
   "outputs": [
    {
     "data": {
      "text/plain": [
       "total_votes\n",
       "0     68\n",
       "1     16\n",
       "2      8\n",
       "3      4\n",
       "4      1\n",
       "5      1\n",
       "23     1\n",
       "6      1\n",
       "Name: count, dtype: int64"
      ]
     },
     "execution_count": 14,
     "metadata": {},
     "output_type": "execute_result"
    }
   ],
   "source": [
    "jwellery.total_votes.value_counts()"
   ]
  },
  {
   "cell_type": "markdown",
   "id": "eb4c05d0",
   "metadata": {},
   "source": [
    "# Standardizing Categorical Values"
   ]
  },
  {
   "cell_type": "code",
   "execution_count": 15,
   "id": "b6f175d5",
   "metadata": {},
   "outputs": [
    {
     "data": {
      "text/html": [
       "<div>\n",
       "<style scoped>\n",
       "    .dataframe tbody tr th:only-of-type {\n",
       "        vertical-align: middle;\n",
       "    }\n",
       "\n",
       "    .dataframe tbody tr th {\n",
       "        vertical-align: top;\n",
       "    }\n",
       "\n",
       "    .dataframe thead th {\n",
       "        text-align: right;\n",
       "    }\n",
       "</style>\n",
       "<table border=\"1\" class=\"dataframe\">\n",
       "  <thead>\n",
       "    <tr style=\"text-align: right;\">\n",
       "      <th></th>\n",
       "      <th>customer_id</th>\n",
       "      <th>product_title</th>\n",
       "      <th>product_category</th>\n",
       "      <th>star_rating</th>\n",
       "      <th>helpful_votes</th>\n",
       "      <th>total_votes</th>\n",
       "      <th>verified_purchase</th>\n",
       "      <th>review_date</th>\n",
       "      <th>Sentiment_jwlry</th>\n",
       "    </tr>\n",
       "  </thead>\n",
       "  <tbody>\n",
       "    <tr>\n",
       "      <th>0</th>\n",
       "      <td>\"50423057\"</td>\n",
       "      <td>everbling purple and clear briolette drop swar...</td>\n",
       "      <td>Jewelry</td>\n",
       "      <td>1</td>\n",
       "      <td>0</td>\n",
       "      <td>0</td>\n",
       "      <td>Y</td>\n",
       "      <td>2015-08-31</td>\n",
       "      <td>positive</td>\n",
       "    </tr>\n",
       "    <tr>\n",
       "      <th>1</th>\n",
       "      <td>\"11262325\"</td>\n",
       "      <td>925 sterling silver finish 6ct simulated diamo...</td>\n",
       "      <td>Jewelry</td>\n",
       "      <td>1</td>\n",
       "      <td>0</td>\n",
       "      <td>0</td>\n",
       "      <td>N</td>\n",
       "      <td>2015-08-31</td>\n",
       "      <td>positive</td>\n",
       "    </tr>\n",
       "    <tr>\n",
       "      <th>2</th>\n",
       "      <td>\"27541121\"</td>\n",
       "      <td>sterling silver circle</td>\n",
       "      <td>Jewelry</td>\n",
       "      <td>1</td>\n",
       "      <td>0</td>\n",
       "      <td>0</td>\n",
       "      <td>Y</td>\n",
       "      <td>2015-08-31</td>\n",
       "      <td>positive</td>\n",
       "    </tr>\n",
       "    <tr>\n",
       "      <th>3</th>\n",
       "      <td>\"5350721\"</td>\n",
       "      <td>surgical stainless steel domed 9mm fishbone ri...</td>\n",
       "      <td>Jewelry</td>\n",
       "      <td>1</td>\n",
       "      <td>0</td>\n",
       "      <td>0</td>\n",
       "      <td>Y</td>\n",
       "      <td>2015-08-31</td>\n",
       "      <td>positive</td>\n",
       "    </tr>\n",
       "    <tr>\n",
       "      <th>4</th>\n",
       "      <td>\"24484424\"</td>\n",
       "      <td>sterling silver family pendant necklace, 18</td>\n",
       "      <td>Jewelry</td>\n",
       "      <td>1</td>\n",
       "      <td>0</td>\n",
       "      <td>0</td>\n",
       "      <td>Y</td>\n",
       "      <td>2015-08-31</td>\n",
       "      <td>positive</td>\n",
       "    </tr>\n",
       "  </tbody>\n",
       "</table>\n",
       "</div>"
      ],
      "text/plain": [
       "  customer_id                                      product_title  \\\n",
       "0  \"50423057\"  everbling purple and clear briolette drop swar...   \n",
       "1  \"11262325\"  925 sterling silver finish 6ct simulated diamo...   \n",
       "2  \"27541121\"                            sterling silver circle    \n",
       "3   \"5350721\"  surgical stainless steel domed 9mm fishbone ri...   \n",
       "4  \"24484424\"        sterling silver family pendant necklace, 18   \n",
       "\n",
       "  product_category  star_rating  helpful_votes  total_votes verified_purchase  \\\n",
       "0          Jewelry            1              0            0                 Y   \n",
       "1          Jewelry            1              0            0                 N   \n",
       "2          Jewelry            1              0            0                 Y   \n",
       "3          Jewelry            1              0            0                 Y   \n",
       "4          Jewelry            1              0            0                 Y   \n",
       "\n",
       "  review_date Sentiment_jwlry  \n",
       "0  2015-08-31        positive  \n",
       "1  2015-08-31        positive  \n",
       "2  2015-08-31        positive  \n",
       "3  2015-08-31        positive  \n",
       "4  2015-08-31        positive  "
      ]
     },
     "execution_count": 15,
     "metadata": {},
     "output_type": "execute_result"
    }
   ],
   "source": [
    "jwellery['product_title'] = jwellery['product_title'].str.lower()\n",
    "jwellery.head()"
   ]
  },
  {
   "cell_type": "markdown",
   "id": "58972d84",
   "metadata": {},
   "source": [
    "# Step 7. Data Visualization"
   ]
  },
  {
   "cell_type": "code",
   "execution_count": 17,
   "id": "6daad71d",
   "metadata": {},
   "outputs": [],
   "source": [
    "import matplotlib.pyplot as plt\n",
    "import seaborn as sns"
   ]
  },
  {
   "cell_type": "code",
   "execution_count": 18,
   "id": "1ed10aac",
   "metadata": {},
   "outputs": [
    {
     "name": "stderr",
     "output_type": "stream",
     "text": [
      "C:\\Users\\DELL\\anaconda3\\lib\\site-packages\\seaborn\\_decorators.py:36: FutureWarning: Pass the following variable as a keyword arg: x. From version 0.12, the only valid positional argument will be `data`, and passing other arguments without an explicit keyword will result in an error or misinterpretation.\n",
      "  warnings.warn(\n"
     ]
    },
    {
     "data": {
      "text/plain": [
       "<AxesSubplot:xlabel='verified_purchase', ylabel='count'>"
      ]
     },
     "execution_count": 18,
     "metadata": {},
     "output_type": "execute_result"
    },
    {
     "data": {
      "image/png": "[encoded data removed]",
      "text/plain": [
       "<Figure size 432x432 with 1 Axes>"
      ]
     },
     "metadata": {
      "needs_background": "light"
     },
     "output_type": "display_data"
    }
   ],
   "source": [
    "plt.figure(figsize=(6,6))\n",
    "sns.countplot(jwellery['verified_purchase'])"
   ]
  },
  {
   "cell_type": "code",
   "execution_count": 19,
   "id": "b6154eea",
   "metadata": {},
   "outputs": [
    {
     "name": "stderr",
     "output_type": "stream",
     "text": [
      "C:\\Users\\DELL\\anaconda3\\lib\\site-packages\\seaborn\\_decorators.py:36: FutureWarning: Pass the following variable as a keyword arg: x. From version 0.12, the only valid positional argument will be `data`, and passing other arguments without an explicit keyword will result in an error or misinterpretation.\n",
      "  warnings.warn(\n"
     ]
    },
    {
     "data": {
      "text/plain": [
       "<AxesSubplot:xlabel='Sentiment_jwlry', ylabel='count'>"
      ]
     },
     "execution_count": 19,
     "metadata": {},
     "output_type": "execute_result"
    },
    {
     "data": {
      "image/png": "[encoded data removed]",
      "text/plain": [
       "<Figure size 432x432 with 1 Axes>"
      ]
     },
     "metadata": {
      "needs_background": "light"
     },
     "output_type": "display_data"
    }
   ],
   "source": [
    "plt.figure(figsize=(6,6))\n",
    "sns.countplot(jwellery['Sentiment_jwlry'])"
   ]
  },
  {
   "cell_type": "code",
   "execution_count": 20,
   "id": "5d1b0729",
   "metadata": {},
   "outputs": [
    {
     "data": {
      "text/html": [
       "<div>\n",
       "<style scoped>\n",
       "    .dataframe tbody tr th:only-of-type {\n",
       "        vertical-align: middle;\n",
       "    }\n",
       "\n",
       "    .dataframe tbody tr th {\n",
       "        vertical-align: top;\n",
       "    }\n",
       "\n",
       "    .dataframe thead th {\n",
       "        text-align: right;\n",
       "    }\n",
       "</style>\n",
       "<table border=\"1\" class=\"dataframe\">\n",
       "  <thead>\n",
       "    <tr style=\"text-align: right;\">\n",
       "      <th></th>\n",
       "      <th>customer_id</th>\n",
       "      <th>product_title</th>\n",
       "      <th>product_category</th>\n",
       "      <th>star_rating</th>\n",
       "      <th>helpful_votes</th>\n",
       "      <th>total_votes</th>\n",
       "      <th>verified_purchase</th>\n",
       "      <th>review_date</th>\n",
       "      <th>Sentiment_jwlry</th>\n",
       "    </tr>\n",
       "  </thead>\n",
       "  <tbody>\n",
       "  </tbody>\n",
       "</table>\n",
       "</div>"
      ],
      "text/plain": [
       "Empty DataFrame\n",
       "Columns: [customer_id, product_title, product_category, star_rating, helpful_votes, total_votes, verified_purchase, review_date, Sentiment_jwlry]\n",
       "Index: []"
      ]
     },
     "execution_count": 20,
     "metadata": {},
     "output_type": "execute_result"
    }
   ],
   "source": [
    "jwellery_1=jwellery.groupby(['verified_purchase'])['star_rating'].value_counts()\n",
    "jwellery[(jwellery['star_rating']==1) & (jwellery['Sentiment_jwlry']=='negative')]"
   ]
  },
  {
   "cell_type": "code",
   "execution_count": 21,
   "id": "4f73694a",
   "metadata": {},
   "outputs": [
    {
     "data": {
      "text/html": [
       "<div>\n",
       "<style scoped>\n",
       "    .dataframe tbody tr th:only-of-type {\n",
       "        vertical-align: middle;\n",
       "    }\n",
       "\n",
       "    .dataframe tbody tr th {\n",
       "        vertical-align: top;\n",
       "    }\n",
       "\n",
       "    .dataframe thead th {\n",
       "        text-align: right;\n",
       "    }\n",
       "</style>\n",
       "<table border=\"1\" class=\"dataframe\">\n",
       "  <thead>\n",
       "    <tr style=\"text-align: right;\">\n",
       "      <th></th>\n",
       "      <th></th>\n",
       "      <th>count</th>\n",
       "    </tr>\n",
       "    <tr>\n",
       "      <th>verified_purchase</th>\n",
       "      <th>star_rating</th>\n",
       "      <th></th>\n",
       "    </tr>\n",
       "  </thead>\n",
       "  <tbody>\n",
       "    <tr>\n",
       "      <th rowspan=\"2\" valign=\"top\">N</th>\n",
       "      <th>1</th>\n",
       "      <td>2</td>\n",
       "    </tr>\n",
       "    <tr>\n",
       "      <th>0</th>\n",
       "      <td>1</td>\n",
       "    </tr>\n",
       "    <tr>\n",
       "      <th rowspan=\"2\" valign=\"top\">Y</th>\n",
       "      <th>1</th>\n",
       "      <td>73</td>\n",
       "    </tr>\n",
       "    <tr>\n",
       "      <th>0</th>\n",
       "      <td>24</td>\n",
       "    </tr>\n",
       "  </tbody>\n",
       "</table>\n",
       "</div>"
      ],
      "text/plain": [
       "                               count\n",
       "verified_purchase star_rating       \n",
       "N                 1                2\n",
       "                  0                1\n",
       "Y                 1               73\n",
       "                  0               24"
      ]
     },
     "execution_count": 21,
     "metadata": {},
     "output_type": "execute_result"
    }
   ],
   "source": [
    "jwellery_1.to_frame()"
   ]
  },
  {
   "cell_type": "code",
   "execution_count": 22,
   "id": "0ba0ded7",
   "metadata": {},
   "outputs": [
    {
     "data": {
      "image/png": "[encoded data removed]",
      "text/plain": [
       "<Figure size 432x288 with 1 Axes>"
      ]
     },
     "metadata": {
      "needs_background": "light"
     },
     "output_type": "display_data"
    }
   ],
   "source": [
    "jwellery_1.plot(kind='bar')\n",
    "plt.show()"
   ]
  },
  {
   "cell_type": "markdown",
   "id": "a80ca1b0",
   "metadata": {},
   "source": [
    "# Step 8. Export the Cleaned Data"
   ]
  },
  {
   "cell_type": "code",
   "execution_count": 23,
   "id": "d65c62aa",
   "metadata": {},
   "outputs": [],
   "source": [
    "Cleaned_jwellery = jwellery.copy()\n",
    "Cleaned_jwellery.to_csv('Cleaned_jwellery.csv', index=False)"
   ]
  },
  {
   "cell_type": "code",
   "execution_count": 24,
   "id": "8f767af4",
   "metadata": {},
   "outputs": [
    {
     "data": {
      "text/html": [
       "<div>\n",
       "<style scoped>\n",
       "    .dataframe tbody tr th:only-of-type {\n",
       "        vertical-align: middle;\n",
       "    }\n",
       "\n",
       "    .dataframe tbody tr th {\n",
       "        vertical-align: top;\n",
       "    }\n",
       "\n",
       "    .dataframe thead th {\n",
       "        text-align: right;\n",
       "    }\n",
       "</style>\n",
       "<table border=\"1\" class=\"dataframe\">\n",
       "  <thead>\n",
       "    <tr style=\"text-align: right;\">\n",
       "      <th></th>\n",
       "      <th>customer_id</th>\n",
       "      <th>product_title</th>\n",
       "      <th>product_category</th>\n",
       "      <th>star_rating</th>\n",
       "      <th>helpful_votes</th>\n",
       "      <th>total_votes</th>\n",
       "      <th>verified_purchase</th>\n",
       "      <th>review_date</th>\n",
       "      <th>Sentiment_jwlry</th>\n",
       "    </tr>\n",
       "  </thead>\n",
       "  <tbody>\n",
       "    <tr>\n",
       "      <th>0</th>\n",
       "      <td>\"50423057\"</td>\n",
       "      <td>everbling purple and clear briolette drop swar...</td>\n",
       "      <td>Jewelry</td>\n",
       "      <td>1</td>\n",
       "      <td>0</td>\n",
       "      <td>0</td>\n",
       "      <td>Y</td>\n",
       "      <td>2015-08-31</td>\n",
       "      <td>positive</td>\n",
       "    </tr>\n",
       "    <tr>\n",
       "      <th>1</th>\n",
       "      <td>\"11262325\"</td>\n",
       "      <td>925 sterling silver finish 6ct simulated diamo...</td>\n",
       "      <td>Jewelry</td>\n",
       "      <td>1</td>\n",
       "      <td>0</td>\n",
       "      <td>0</td>\n",
       "      <td>N</td>\n",
       "      <td>2015-08-31</td>\n",
       "      <td>positive</td>\n",
       "    </tr>\n",
       "    <tr>\n",
       "      <th>2</th>\n",
       "      <td>\"27541121\"</td>\n",
       "      <td>sterling silver circle</td>\n",
       "      <td>Jewelry</td>\n",
       "      <td>1</td>\n",
       "      <td>0</td>\n",
       "      <td>0</td>\n",
       "      <td>Y</td>\n",
       "      <td>2015-08-31</td>\n",
       "      <td>positive</td>\n",
       "    </tr>\n",
       "    <tr>\n",
       "      <th>3</th>\n",
       "      <td>\"5350721\"</td>\n",
       "      <td>surgical stainless steel domed 9mm fishbone ri...</td>\n",
       "      <td>Jewelry</td>\n",
       "      <td>1</td>\n",
       "      <td>0</td>\n",
       "      <td>0</td>\n",
       "      <td>Y</td>\n",
       "      <td>2015-08-31</td>\n",
       "      <td>positive</td>\n",
       "    </tr>\n",
       "    <tr>\n",
       "      <th>4</th>\n",
       "      <td>\"24484424\"</td>\n",
       "      <td>sterling silver family pendant necklace, 18</td>\n",
       "      <td>Jewelry</td>\n",
       "      <td>1</td>\n",
       "      <td>0</td>\n",
       "      <td>0</td>\n",
       "      <td>Y</td>\n",
       "      <td>2015-08-31</td>\n",
       "      <td>positive</td>\n",
       "    </tr>\n",
       "  </tbody>\n",
       "</table>\n",
       "</div>"
      ],
      "text/plain": [
       "  customer_id                                      product_title  \\\n",
       "0  \"50423057\"  everbling purple and clear briolette drop swar...   \n",
       "1  \"11262325\"  925 sterling silver finish 6ct simulated diamo...   \n",
       "2  \"27541121\"                            sterling silver circle    \n",
       "3   \"5350721\"  surgical stainless steel domed 9mm fishbone ri...   \n",
       "4  \"24484424\"        sterling silver family pendant necklace, 18   \n",
       "\n",
       "  product_category  star_rating  helpful_votes  total_votes verified_purchase  \\\n",
       "0          Jewelry            1              0            0                 Y   \n",
       "1          Jewelry            1              0            0                 N   \n",
       "2          Jewelry            1              0            0                 Y   \n",
       "3          Jewelry            1              0            0                 Y   \n",
       "4          Jewelry            1              0            0                 Y   \n",
       "\n",
       "  review_date Sentiment_jwlry  \n",
       "0  2015-08-31        positive  \n",
       "1  2015-08-31        positive  \n",
       "2  2015-08-31        positive  \n",
       "3  2015-08-31        positive  \n",
       "4  2015-08-31        positive  "
      ]
     },
     "execution_count": 24,
     "metadata": {},
     "output_type": "execute_result"
    }
   ],
   "source": [
    "df = pd.read_csv(\"cleaned_jwellery.csv\")\n",
    "df.head()"
   ]
  },
  {
   "cell_type": "markdown",
   "id": "d6b2198b",
   "metadata": {},
   "source": [
    "# Data Quality Summary"
   ]
  },
  {
   "cell_type": "markdown",
   "id": "d20fb78e",
   "metadata": {},
   "source": [
    "#The dataset has been successfully cleaned and transformed.\n",
    "#Missing values were handled through a combination of dropping rows and imputing values.\n",
    "#Date formatting and standardization of categorical values were performed for consistency.\n",
    "#Data types were converted to ensure appropriate data representation.\n",
    "#Graphs has been successfully created.\n",
    "#Cleaned data has been successfully saved in new csv file for future analysis."
   ]
  }
 ],
 "metadata": {
  "kernelspec": {
   "display_name": "Python 3",
   "language": "python",
   "name": "python3"
  },
  "language_info": {
   "codemirror_mode": {
    "name": "ipython",
    "version": 3
   },
   "file_extension": ".py",
   "mimetype": "text/x-python",
   "name": "python",
   "nbconvert_exporter": "python",
   "pygments_lexer": "ipython3",
   "version": "3.8.8"
  }
 },
 "nbformat": 4,
 "nbformat_minor": 5
}
